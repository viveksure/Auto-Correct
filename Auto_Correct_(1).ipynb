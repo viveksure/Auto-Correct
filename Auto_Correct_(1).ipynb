{
  "cells": [
    {
      "cell_type": "markdown",
      "metadata": {
        "id": "view-in-github",
        "colab_type": "text"
      },
      "source": [
        "<a href=\"https://colab.research.google.com/github/viveksure/Auto-Correct/blob/main/Auto_Correct_(1).ipynb\" target=\"_parent\"><img src=\"https://colab.research.google.com/assets/colab-badge.svg\" alt=\"Open In Colab\"/></a>"
      ]
    },
    {
      "cell_type": "code",
      "execution_count": 1,
      "id": "a21dae87",
      "metadata": {
        "colab": {
          "base_uri": "https://localhost:8080/"
        },
        "id": "a21dae87",
        "outputId": "b73fb5d0-3af3-4546-8ce4-f70a57073358"
      },
      "outputs": [
        {
          "output_type": "stream",
          "name": "stdout",
          "text": [
            "Original Word: mistak\n",
            "Corrected Word: mistakes\n"
          ]
        }
      ],
      "source": [
        "import re\n",
        "import string\n",
        "from collections import Counter\n",
        "import numpy as np\n",
        "\n",
        "def preprocess_text(text):\n",
        "    # Convert text to lowercase\n",
        "    text = text.lower()\n",
        "\n",
        "    # Remove punctuation\n",
        "    text = text.translate(str.maketrans('', '', string.punctuation))\n",
        "\n",
        "    return text\n",
        "\n",
        "def get_words(text):\n",
        "    # Split text into words\n",
        "    words = re.findall(r'\\b\\w+\\b', text)\n",
        "    return words\n",
        "\n",
        "def create_word_dict(words):\n",
        "    # Count the frequency of each word\n",
        "    word_counts = Counter(words)\n",
        "    return word_counts\n",
        "\n",
        "def calculate_distance(word1, word2):\n",
        "    # Calculate the Levenshtein distance between two words\n",
        "    m = len(word1)\n",
        "    n = len(word2)\n",
        "    dp = np.zeros((m+1, n+1), dtype=int)\n",
        "\n",
        "    for i in range(m+1):\n",
        "        dp[i][0] = i\n",
        "\n",
        "    for j in range(n+1):\n",
        "        dp[0][j] = j\n",
        "\n",
        "    for i in range(1, m+1):\n",
        "        for j in range(1, n+1):\n",
        "            if word1[i-1] == word2[j-1]:\n",
        "                dp[i][j] = dp[i-1][j-1]\n",
        "            else:\n",
        "                dp[i][j] = 1 + min(dp[i-1][j], dp[i][j-1], dp[i-1][j-1])\n",
        "\n",
        "    return dp[m][n]\n",
        "\n",
        "def find_nearest_word(word, word_counts):\n",
        "    # Find the word with the smallest Levenshtein distance to the input word\n",
        "    min_distance = float('inf')\n",
        "    nearest_word = word\n",
        "\n",
        "    for candidate_word in word_counts.keys():\n",
        "        distance = calculate_distance(word, candidate_word)\n",
        "        if distance < min_distance:\n",
        "            min_distance = distance\n",
        "            nearest_word = candidate_word\n",
        "\n",
        "    return nearest_word\n",
        "\n",
        "# Example usage\n",
        "text = \"This is a sample sentense with spelling mistakes.\"\n",
        "word = \"mistak\"\n",
        "\n",
        "preprocessed_text = preprocess_text(text)\n",
        "words = get_words(preprocessed_text)\n",
        "word_counts = create_word_dict(words)\n",
        "\n",
        "if word in word_counts:\n",
        "    corrected_word = word\n",
        "else:\n",
        "    corrected_word = find_nearest_word(word, word_counts)\n",
        "\n",
        "print(\"Original Word:\", word)\n",
        "print(\"Corrected Word:\", corrected_word)"
      ]
    },
    {
      "cell_type": "code",
      "execution_count": 1,
      "id": "174de639",
      "metadata": {
        "id": "174de639"
      },
      "outputs": [],
      "source": []
    }
  ],
  "metadata": {
    "kernelspec": {
      "display_name": "Python 3 (ipykernel)",
      "language": "python",
      "name": "python3"
    },
    "language_info": {
      "codemirror_mode": {
        "name": "ipython",
        "version": 3
      },
      "file_extension": ".py",
      "mimetype": "text/x-python",
      "name": "python",
      "nbconvert_exporter": "python",
      "pygments_lexer": "ipython3",
      "version": "3.9.12"
    },
    "colab": {
      "provenance": [],
      "include_colab_link": true
    }
  },
  "nbformat": 4,
  "nbformat_minor": 5
}